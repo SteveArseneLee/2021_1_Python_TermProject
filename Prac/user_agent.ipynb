{
 "metadata": {
  "language_info": {
   "codemirror_mode": {
    "name": "ipython",
    "version": 3
   },
   "file_extension": ".py",
   "mimetype": "text/x-python",
   "name": "python",
   "nbconvert_exporter": "python",
   "pygments_lexer": "ipython3",
   "version": "3.8.5"
  },
  "orig_nbformat": 2,
  "kernelspec": {
   "name": "python385jvsc74a57bd0fe0194e226d33a1f3b8cca7a73cfbdfdf2256586be88cafd282085d011f31225",
   "display_name": "Python 3.8.5 64-bit ('base': conda)"
  },
  "metadata": {
   "interpreter": {
    "hash": "fe0194e226d33a1f3b8cca7a73cfbdfdf2256586be88cafd282085d011f31225"
   }
  }
 },
 "nbformat": 4,
 "nbformat_minor": 2,
 "cells": [
  {
   "cell_type": "code",
   "execution_count": 2,
   "metadata": {},
   "outputs": [],
   "source": [
    "import requests\n",
    "url = \"http://google.com\"\n",
    "headers = {\"User-Agent\":\"Mozilla/5.0 (Macintosh; Intel Mac OS X 10_15_7) AppleWebKit/537.36 (KHTML, like Gecko) Chrome/90.0.4430.93 Safari/537.36\"}\n",
    "# res = requests.get(\"http://naver.com\")\n",
    "res = requests.get(url, headers=headers)\n",
    "res.raise_for_status()\n",
    "with open(\"google.html\",\"w\", encoding=\"utf8\") as f:\n",
    "    f.write(res.text)"
   ]
  },
  {
   "cell_type": "code",
   "execution_count": 23,
   "metadata": {},
   "outputs": [
    {
     "output_type": "stream",
     "name": "stdout",
     "text": [
      "<li class=\"rank02\">\n<a href=\"/webtoon/detail.nhn?titleId=703852&amp;no=148\" onclick=\"nclk_v2(event,'rnk*p.cont','703852','2')\" title=\"바른연애 길잡이-148\">바른연애 길잡이-148</a>\n<span class=\"rankBox\">\n<img alt=\"변동없음\" height=\"10\" src=\"https://ssl.pstatic.net/static/comic/images/migration/common/arrow_no.gif\" title=\"변동없음\" width=\"7\"/> 0\n\t\t\t\t\t\t\n\t\t\t\t\t\n\t\t\t\t</span>\n</li>\n"
     ]
    },
    {
     "output_type": "execute_result",
     "data": {
      "text/plain": [
       "[<li class=\"rank02\">\n",
       " <a href=\"/webtoon/detail.nhn?titleId=703852&amp;no=148\" onclick=\"nclk_v2(event,'rnk*p.cont','703852','2')\" title=\"바른연애 길잡이-148\">바른연애 길잡이-148</a>\n",
       " <span class=\"rankBox\">\n",
       " <img alt=\"변동없음\" height=\"10\" src=\"https://ssl.pstatic.net/static/comic/images/migration/common/arrow_no.gif\" title=\"변동없음\" width=\"7\"/> 0\n",
       " \t\t\t\t\t\t\n",
       " \t\t\t\t\t\n",
       " \t\t\t\t</span>\n",
       " </li>,\n",
       " <li class=\"rank03\">\n",
       " <a href=\"/webtoon/detail.nhn?titleId=743139&amp;no=51\" onclick=\"nclk_v2(event,'rnk*p.cont','743139','3')\" title=\"한림체육관-51화\">한림체육관-51화</a>\n",
       " <span class=\"rankBox\">\n",
       " <img alt=\"변동없음\" height=\"10\" src=\"https://ssl.pstatic.net/static/comic/images/migration/common/arrow_no.gif\" title=\"변동없음\" width=\"7\"/> 0\n",
       " \t\t\t\t\t\t\n",
       " \t\t\t\t\t\n",
       " \t\t\t\t</span>\n",
       " </li>,\n",
       " <li class=\"rank04\">\n",
       " <a href=\"/webtoon/detail.nhn?titleId=730656&amp;no=96\" onclick=\"nclk_v2(event,'rnk*p.cont','730656','4')\" title=\"사신소년-96화 버킷리스트\">사신소년-96화 버킷리스트</a>\n",
       " <span class=\"rankBox\">\n",
       " <img alt=\"변동없음\" height=\"10\" src=\"https://ssl.pstatic.net/static/comic/images/migration/common/arrow_no.gif\" title=\"변동없음\" width=\"7\"/> 0\n",
       " \t\t\t\t\t\t\n",
       " \t\t\t\t\t\n",
       " \t\t\t\t</span>\n",
       " </li>,\n",
       " <li class=\"rank05\">\n",
       " <a href=\"/webtoon/detail.nhn?titleId=702608&amp;no=181\" onclick=\"nclk_v2(event,'rnk*p.cont','702608','5')\" title=\"랜덤채팅의 그녀!-181. 개과천선\">랜덤채팅의 그녀!-181. 개과천선</a>\n",
       " <span class=\"rankBox\">\n",
       " <img alt=\"변동없음\" height=\"10\" src=\"https://ssl.pstatic.net/static/comic/images/migration/common/arrow_no.gif\" title=\"변동없음\" width=\"7\"/> 0\n",
       " \t\t\t\t\t\t\n",
       " \t\t\t\t\t\n",
       " \t\t\t\t</span>\n",
       " </li>,\n",
       " <li class=\"rank06\">\n",
       " <a href=\"/webtoon/detail.nhn?titleId=738487&amp;no=72\" onclick=\"nclk_v2(event,'rnk*p.cont','738487','6')\" title=\"하루만 네가 되고 싶어-72. 세상사 마음대로 되지 않는다 \">하루만 네가 되고 싶어-72. 세상사 마음대로 되지 않는다</a>\n",
       " <span class=\"rankBox\">\n",
       " <img alt=\"변동없음\" height=\"10\" src=\"https://ssl.pstatic.net/static/comic/images/migration/common/arrow_no.gif\" title=\"변동없음\" width=\"7\"/> 0\n",
       " \t\t\t\t\t\t\n",
       " \t\t\t\t\t\n",
       " \t\t\t\t</span>\n",
       " </li>,\n",
       " <li class=\"rank07\">\n",
       " <a href=\"/webtoon/detail.nhn?titleId=759925&amp;no=12\" onclick=\"nclk_v2(event,'rnk*p.cont','759925','7')\" title=\"엽총소년-11화\">엽총소년-11화</a>\n",
       " <span class=\"rankBox\">\n",
       " <img alt=\"변동없음\" height=\"10\" src=\"https://ssl.pstatic.net/static/comic/images/migration/common/arrow_no.gif\" title=\"변동없음\" width=\"7\"/> 0\n",
       " \t\t\t\t\t\t\n",
       " \t\t\t\t\t\n",
       " \t\t\t\t</span>\n",
       " </li>,\n",
       " <li class=\"rank08\">\n",
       " <a href=\"/webtoon/detail.nhn?titleId=753856&amp;no=36\" onclick=\"nclk_v2(event,'rnk*p.cont','753856','8')\" title=\"달콤살벌한 부부-36화\">달콤살벌한 부부-36화</a>\n",
       " <span class=\"rankBox\">\n",
       " <img alt=\"변동없음\" height=\"10\" src=\"https://ssl.pstatic.net/static/comic/images/migration/common/arrow_no.gif\" title=\"변동없음\" width=\"7\"/> 0\n",
       " \t\t\t\t\t\t\n",
       " \t\t\t\t\t\n",
       " \t\t\t\t</span>\n",
       " </li>,\n",
       " <li class=\"rank09\">\n",
       " <a href=\"/webtoon/detail.nhn?titleId=757904&amp;no=30\" onclick=\"nclk_v2(event,'rnk*p.cont','757904','9')\" title=\"호랑이 들어와요-29화 구미호 이야기 2\">호랑이 들어와요-29화 구미호 이야기 2</a>\n",
       " <span class=\"rankBox\">\n",
       " <img alt=\"변동없음\" height=\"10\" src=\"https://ssl.pstatic.net/static/comic/images/migration/common/arrow_no.gif\" title=\"변동없음\" width=\"7\"/> 0\n",
       " \t\t\t\t\t\t\n",
       " \t\t\t\t\t\n",
       " \t\t\t\t</span>\n",
       " </li>,\n",
       " <li class=\"rank10\">\n",
       " <a href=\"/webtoon/detail.nhn?titleId=753853&amp;no=35\" onclick=\"nclk_v2(event,'rnk*p.cont','753853','10')\" title=\"플레이, 플리-35화 - 나 버리면 안 돼.\">플레이, 플리-35화 - 나 버리면 안 돼.</a>\n",
       " <span class=\"rankBox\">\n",
       " <img alt=\"변동없음\" height=\"10\" src=\"https://ssl.pstatic.net/static/comic/images/migration/common/arrow_no.gif\" title=\"변동없음\" width=\"7\"/> 0\n",
       " \t\t\t\t\t\t\n",
       " \t\t\t\t\t\n",
       " \t\t\t\t</span>\n",
       " </li>]"
      ]
     },
     "metadata": {},
     "execution_count": 23
    }
   ],
   "source": [
    "import requests\n",
    "from bs4 import BeautifulSoup\n",
    "\n",
    "url = \"https://comic.naver.com/webtoon/weekday.nhn\"\n",
    "res = requests.get(url)\n",
    "res.raise_for_status()\n",
    "\n",
    "soup = BeautifulSoup(res.text,\"lxml\")\n",
    "# print(soup.title)\n",
    "# print(soup.title.get_text())\n",
    "# print(soup.a) # soup 객체에서 처음 발견되는 a element를 반환\n",
    "# print(soup.a.attrs) # a element의 속성 정보를 출력\n",
    "# print(soup.a[\"href\"]) # a element의 href 속성 '값' 정보를 출력\n",
    "\n",
    "# soup.find(\"a\", attrs={\"class\":\"Nbtn_upload\"}) # class = \"Nbtn_upload\"인 a element를 찾아줘\n",
    "# soup.find(attrs={\"class\":\"Nbtn_upload\"}) # class=\"Nbtn_upload\"인 어떤 element를 찾아줘\n",
    "\n",
    "# print(soup.find(\"li\", attrs={\"class\":\"rank01\"}))\n",
    "# rank1 = soup.find(\"li\", attrs={\"class\":\"rank01\"})\n",
    "# print(rank1.a.get_text())\n",
    "# print(rank1.next_sibling.next_sibling)\n",
    "# print(rank1.next_sibling)\n",
    "# rank2 = rank1.next_sibling.next_sibling\n",
    "# rank3 = rank2.next_sibling.next_sibling\n",
    "# print(rank3.a.get_text())\n",
    "# rank2 = rank3.previous_sibling.previous_sibling\n",
    "# print(rank2.a.get_text())\n",
    "# print(rank1.parent)\n",
    "# rank2 = rank1.find_next_sibling(\"li\")\n",
    "# print(rank2.a.get_text())\n",
    "# rank3 = rank2.find_next_sibling(\"li\")\n",
    "# print(rank3.a.get_text())\n",
    "# rank2 = rank3.find_previous_sibling(\"li\")\n",
    "# print(rank2.a.get_text())\n",
    "\n",
    "# rank1.find_next_siblings(\"li\")\n",
    "\n",
    "# webtoon = soup.find(\"a\", text=)"
   ]
  },
  {
   "cell_type": "code",
   "execution_count": 25,
   "metadata": {},
   "outputs": [
    {
     "output_type": "stream",
     "name": "stdout",
     "text": [
      "참교육\n뷰티풀 군바리\n소녀의 세계\n윈드브레이커\n파이게임\n장씨세가 호위무사\n삼매경\n만렙돌파\n황제와의 하룻밤\n칼가는 소녀\n요리GO\n잔불의 기사\n유일무이 로맨스\n야생천사 보호구역\n수영만화일기\n히어로메이커\n오늘의 순정망화\n리턴 투 플레이어\n결혼생활 그림일기\n평범한 8반\n싸이코 리벤지\n브랜든\n기사님을 지켜줘\n순정말고 순종\n바이러스X\n살아간다\n꿈의 기업\n아는 여자애\n착한건 돈이된다\n사랑의 헌옷수거함\n사막에 핀 달\n선배, 그 립스틱 바르지 마요\n왕따협상\n침범\n마지막 지수\n피플\n이중첩자\n원하는 건 너 하나\n중독연구소\n라서드\n개밥 먹는 남자\n앵무살수\n이탄국의 자청비\n뱀파이어의 꽃\n그림자 신부\n백호랑\n드로잉 레시피\n인간의 온도\n하슬라\n오로지 오로라\n트리거\n보살님이 캐리해!\n헬로맨스\n바른연애 길잡이\n여신강림\n엽총소년\n한림체육관\n하루만 네가 되고 싶어\n랜덤채팅의 그녀!\n사신소년\n헬58\n신도림\n호랑이 들어와요\n삼국지톡\n몬스터\n달콤살벌한 부부\n원주민 공포만화\n오피스 누나 이야기\n집이 없어\n위아더좀비\n윌유메리미\n하우스키퍼\n오늘의 순정망화\n급식러너\n견우와 선녀\n그녀석 정복기\n플레이, 플리\n용왕님의 셰프가 되었습니다\n나는 어디에나 있다\n성인초딩\n나타나주세요!\n악인\n빌런투킬\n아이즈\n3cm 헌터\n빅맨\n대신 심부름을 해다오\n찐:종합게임동아리\n은주의 방 2~3부\n올가미\n프린스 메이커\n제로게임\n하나in세인\n아이레\n별종\n연우의 순정\n숲속의 담\n열녀박씨 계약결혼뎐\n오파츠\n자판귀\n빛빛빛\n조선홍보대행사 조대박\n언메이크\n필살VS로맨스\n안식의 밤\n완벽한 가족\n나의 플랏메이트\n도를 아십니까\n태시트\n풋내기들\n피로만땅\n인문학적 감수성\n고수\n전지적 독자 시점\n복학왕\n헬퍼 2 : 킬베로스\n모죠의 일지\n급식아빠\n튜토리얼 탑의 고인물\n격기3반\n캐슬\n세상은 돈과 권력\n노곤하개\n하렘의 남자들\n남주의 첫날밤을 가져버렸다\n화산귀환\n일렉시드\n연놈\n여주실격!\n나쁜사람\n고삼무쌍\n닥터앤닥터 육아일기\n원수를 사랑하라\n엔딩 후 서브남을 주웠다\n빌드업\n판타지 여동생!\n오징어도 사랑이 되나요?\n마른 가지에 바람처럼\n귀곡의 문\n각자의 디데이\n언덕 위의 제임스\n마녀와 용의 신혼일기\n사상최강\n방탈출\n아도나이\n웰컴 온보드\n로어 올림푸스\n새벽 두 시의 신데렐라\n내 룸메이트는 마네킹\n이츠마인\n반귀\n더 트웰브\n럭키언럭키\n수요웹툰의 나강림\n범이올시다!\n얼굴천재\n칼부림\n말하는대로\n신선비\n당신의 향수\n속보입니다\n뱀은 꽃을 먹는가\n인터셉트\n스캔들\n해귀\n노선도\n천도\n수상한 비밀상담부\n스몰\n기억흔적\n저승사자 출입금지\n시효완성\n독립일기\n연애혁명\n더 복서\n기기괴괴\n이두나!\n나노마신\n노답소녀\n화이트 블러드\n전자오락수호대\n정글쥬스\n겟백\n하드캐리\n무사만리행\n당신의 과녁\n수영만화일기\n흑막 여주가 날 새엄마로 만들려고 해\n던전 씹어먹는 아티팩트\n꽃만 키우는데 너무강함\n트롤트랩\n신비\n오늘의 순정망화\n쿠베라\n그 개, 만두\n선의의 경쟁\n최강전설 강해효\n혼모노트\n시월드 판타지\n마계인섬\n온실 속 화초\n만물의 영장\n별을 삼킨 너에게\n자취방 신선들\n야만의 시대\n달의 요람\n불편한 관계\n롤랑롤랑\n집사레인저\n그 황제가 시곗바늘을 되돌린 사연\n로그아웃\n어차피 남편은!\n성스러운 아이돌\n안개무덤\n겟라이프\n루커피쳐\n셈하는 사이\n소녀180\n모어 라이프\n유리와 유리와 유리\n불릿 6미리\n미드나잇 체이서\n카루나\n밤하늘에 구름운\n보물과 괴물의 도시\n바른탕진 프로젝트\n헬프미\n외모지상주의\n갓 오브 하이스쿨\n재혼 황후\n데드퀸\n1초\n개를 낳았다\n성경의 역사\n여성전용헬스장 진달래짐\n삼국지톡\n낙향문사전\n엽사:요괴사냥꾼\n더 게이머\n세기말 풋사과 보습학원\n그들이 사귀는 세상\n살人스타그램\n뫼신 사냥꾼\n도롱이\n히어로 킬러\n걸어서 30분\n환상의 용\n스포\n플레이어\n주님, 악마가 되게 해주세요!\n난약\n상남자\n거래\n복학생 정순이\n구남친이 내게 반했다\n그 기사가 레이디로 사는 법\n고래별\n악몽일기\n금혼령-조선혼인금지령\n가슴털 로망스\n아찔한 전남편\n사람의 조각\n태권보이\n감자마을\nA.I. 닥터\n로판 빙의 만화\n썸내일\n찬란하지 않아도 괜찮아, 새벽\n닥터 프로스트 시즌 3~4\n피와 나비\n후덜덜덜 남극전자\n나쁜 쪽으로\n빨리감기\n방과후 선녀\n도무지 그애는\n몽홀\n구독금지\n감히\n너의 미소가 함정\n버그: 스티그마\n꽃 피우는 남자\n트럼프\n백년게임\n진짜 정말 맹세코 좋아해\n구주의 시간\n강림전기 개정기\n히트포인트\n매지컬 메디컬\n호랑이형님\n프리드로우\n모죠의 일지\n취사병 전설이 되다\n욕망일기\n광장\n노곤하개\n힙한남자\n민간인 통제구역\n청춘 블라썸\n토끼대왕\n아홉수 우리들\n윌유메리미\n좀비 파이트\n나이트런\n나를 바꿔줘\n어글리후드\n지옥급식\n갓핑크\n동트는 로맨스\n피라미드 게임\n반드시 해피엔딩\n두번째 생일\n중매쟁이 아가 황녀님\n공유몽\n2-3승강장\n더 나우\n단편.zip\n왕년엔 용사님\n키스 식스 센스\n남자주인공의 여자사람친구입니다\n먹이\n홍시는 날 좋아해!\n아가사\n광해의 연인\n내게 필요한 NO맨스\n웰캄투실버라이프\n태백 : 튜토리얼 맨\n군주\n왕세자 입학도\n저무는 해, 시린 눈\n율리\n꼬리 있는 연애\n동네몬스터\n팔려 온 신부\n압락사스\n좋은데 어떡해\n모두 너였다\n오늘부터 천생연분\n후아유!\n도사 가온\n손 잡아 볼래?\n아테나 컴플렉스\n안녕, 이바다씨\n언플래시레슨\n아침을 지나 밤으로\n친구의 비밀계정\n인간졸업\n누군가의 로섬\n함부로 대해줘\n어른의 계절\n독립일기\n싸움독학\n약한영웅\n이번 생도 잘 부탁해\n열렙전사\n입학용병\n맘마미안\n소녀재판\n테러대부활\n닥터앤닥터 육아일기\n곱게 키웠더니, 짐승\n천하제일인\n동생친구\n오로지 너를 이기고 싶어\n나만 보여!\n살아남은 로맨스\n인어를 위한 수영교실\n행성인간\n합격시켜주세용\n마법스크롤 상인 지오\n내일\n구름이 피워낸 꽃\n별이삼샵\n가비지타임\nAI가 세상을 지배한다면\n다이스(DICE)\n로어 올림푸스\n판사 이한영\n벚꽃이 흩날릴 무렵\n강남도깨비\n사람은 고쳐 쓰는 게 아니야!\n학교정벌\n푸른불꽃\n평행도시\n라일락 200%\n아르세니아의 마법사\n결혼까지 망상했어!\n두근두근 연극부\n데빌샷\n오른눈이 보는 세계\n잉여특공대\n조선여우스캔들\n굿 리스너\n오늘 밤만 재워줘\n라커, 오프너\n소녀 해미\n위험한 신입사원\n신이 담긴 아이\n마도\n데이즈\n죽여주는 탐정님\n샤인 스타\n스트러글\n호시탐탐\n"
     ]
    }
   ],
   "source": [
    "import requests\n",
    "from bs4 import BeautifulSoup\n",
    "\n",
    "url = \"https://comic.naver.com/webtoon/weekday.nhn\"\n",
    "res = requests.get(url)\n",
    "res.raise_for_status()\n",
    "\n",
    "soup = BeautifulSoup(res.text, \"lxml\")\n",
    "cartoons = soup.find_all(\"a\", attrs={\"class\" : \"title\"})\n",
    "for cartoon in cartoons:\n",
    "    print(cartoon.get_text())"
   ]
  }
 ]
}