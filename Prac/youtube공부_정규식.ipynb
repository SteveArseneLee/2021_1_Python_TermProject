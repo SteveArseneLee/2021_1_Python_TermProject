{
 "metadata": {
  "language_info": {
   "codemirror_mode": {
    "name": "ipython",
    "version": 3
   },
   "file_extension": ".py",
   "mimetype": "text/x-python",
   "name": "python",
   "nbconvert_exporter": "python",
   "pygments_lexer": "ipython3",
   "version": "3.8.5"
  },
  "orig_nbformat": 2,
  "kernelspec": {
   "name": "python385jvsc74a57bd0fe0194e226d33a1f3b8cca7a73cfbdfdf2256586be88cafd282085d011f31225",
   "display_name": "Python 3.8.5 64-bit ('base': conda)"
  },
  "metadata": {
   "interpreter": {
    "hash": "fe0194e226d33a1f3b8cca7a73cfbdfdf2256586be88cafd282085d011f31225"
   }
  }
 },
 "nbformat": 4,
 "nbformat_minor": 2,
 "cells": [
  {
   "source": [
    "Requests공부"
   ],
   "cell_type": "markdown",
   "metadata": {}
  },
  {
   "cell_type": "code",
   "execution_count": 4,
   "metadata": {},
   "outputs": [
    {
     "output_type": "stream",
     "name": "stdout",
     "text": [
      "응답코드 :  200\n"
     ]
    }
   ],
   "source": [
    "import requests\n",
    "# res = requests.get(\"http://naver.com\")\n",
    "res = requests.get(\"http://youtube.com\")\n",
    "print(\"응답코드 : \", res.status_code)"
   ]
  },
  {
   "cell_type": "code",
   "execution_count": 5,
   "metadata": {},
   "outputs": [
    {
     "output_type": "stream",
     "name": "stdout",
     "text": [
      "정상입니다\n"
     ]
    }
   ],
   "source": [
    "if res.status_code == requests.codes.ok:\n",
    "    print(\"정상입니다\")\n",
    "else:\n",
    "    print(\"문제가 생겼습니다. [에러코드 \", res.status_code,\"]\")"
   ]
  },
  {
   "cell_type": "code",
   "execution_count": 7,
   "metadata": {},
   "outputs": [
    {
     "output_type": "stream",
     "name": "stdout",
     "text": [
      "웹 스크래핑을 진행합니다\n"
     ]
    }
   ],
   "source": [
    "res.raise_for_status() # 문제가 생기면 프로그램 종료\n",
    "print(\"웹 스크래핑을 진행합니다\")"
   ]
  },
  {
   "cell_type": "code",
   "execution_count": 9,
   "metadata": {},
   "outputs": [
    {
     "output_type": "stream",
     "name": "stdout",
     "text": [
      "509706\n"
     ]
    }
   ],
   "source": [
    "import requests\n",
    "res = requests.get(\"http://google.com\")\n",
    "res.raise_for_status()\n",
    "print(len(res.text))\n",
    "with open(\"mygoogle.html\",\"w\",encoding=\"utf8\") as f:\n",
    "    f.write(res.text)"
   ]
  },
  {
   "cell_type": "code",
   "execution_count": 28,
   "metadata": {},
   "outputs": [
    {
     "output_type": "stream",
     "name": "stdout",
     "text": [
      "m.group(): care\nm.string: good care\nm.start(): 5\nm.end(): 9\nm.span(): (5, 9)\n"
     ]
    }
   ],
   "source": [
    "import re\n",
    "p = re.compile(\"ca.e\")\n",
    "# .(ca.e) : 하나의 문자를 의미 > care, cafe, case (o) | caffe (x)\n",
    "# ^(^de) : 문자열의 시작 > desk, destination (o) | fade (x)\n",
    "# $(se$) : 문자열의 끝 > case, base (o) | face (x)\n",
    "\n",
    "def print_match(m):\n",
    "    if m:\n",
    "        print(\"m.group():\", m.group()) # 일치하는 문자열 반환\n",
    "        print(\"m.string:\", m.string) # 입력받은 문자열\n",
    "        print(\"m.start():\",m.start()) # 일치하는 문자열의 시작 index\n",
    "        print(\"m.end():\", m.end()) # 일치하는 문자열의 끝 index\n",
    "        print(\"m.span():\", m.span()) # 일치하는 문자열의 시작 / 끝 index\n",
    "    else:\n",
    "        print(\"매칭되지 않음\")\n",
    "\n",
    "# m = p.match(\"good care\") # match : 주어진 문자열의 처음부터 일치하는지 확인\n",
    "# print(m.group()) # 매치되지 않으면 에러가 발생\n",
    "\n",
    "m = p.search(\"good care\") # search : 주어진 문자열 중에 일치하는게 있는지 확인\n",
    "print_match(m)"
   ]
  },
  {
   "cell_type": "code",
   "execution_count": 21,
   "metadata": {},
   "outputs": [
    {
     "output_type": "stream",
     "name": "stdout",
     "text": [
      "care\n"
     ]
    }
   ],
   "source": [
    "m = p.search(\"good care\") # search : 주어진 문자열 중에 일치하는게 있는지 확인\n",
    "print_match(m)"
   ]
  },
  {
   "cell_type": "code",
   "execution_count": 29,
   "metadata": {},
   "outputs": [
    {
     "output_type": "stream",
     "name": "stdout",
     "text": [
      "['care']\n"
     ]
    }
   ],
   "source": [
    "lst = p.findall(\"careless\") # findall : 일치하는 모든 것을 리스트 형태로 반환\n",
    "print(lst)"
   ]
  },
  {
   "cell_type": "code",
   "execution_count": 30,
   "metadata": {},
   "outputs": [],
   "source": [
    "# 1. p = re.compile(\"원하는 형태\")\n",
    "# 2. m = p.match(\"비교할 문자열\") : 주어진 문자열의 처음부터 일치하는지 확인\n",
    "# 3. m = p.search(\"비교할 문자열\") : 주어진 문자열 중에 일치하는게 있는지 확인\n",
    "# 4. lst = p.findall(\"비교할 문자열\") : 일치하는 모든 것을 리스트 형태로 반환\n",
    "\n",
    "# 원하는 형태 : 정규식\n",
    "# .(ca.e) : 하나의 문자를 의미 > care, cafe, case (o) | caffe (x)\n",
    "# ^(^de) : 문자열의 시작 > desk, destination (o) | fade (x)\n",
    "# $(se$) : 문자열의 끝 > case, base (o) | face (x)"
   ]
  }
 ]
}