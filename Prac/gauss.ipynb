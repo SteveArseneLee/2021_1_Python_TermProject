{
 "metadata": {
  "language_info": {
   "codemirror_mode": {
    "name": "ipython",
    "version": 3
   },
   "file_extension": ".py",
   "mimetype": "text/x-python",
   "name": "python",
   "nbconvert_exporter": "python",
   "pygments_lexer": "ipython3",
   "version": "3.8.5"
  },
  "orig_nbformat": 2,
  "kernelspec": {
   "name": "python385jvsc74a57bd0fe0194e226d33a1f3b8cca7a73cfbdfdf2256586be88cafd282085d011f31225",
   "display_name": "Python 3.8.5 64-bit ('base': conda)"
  },
  "metadata": {
   "interpreter": {
    "hash": "fe0194e226d33a1f3b8cca7a73cfbdfdf2256586be88cafd282085d011f31225"
   }
  }
 },
 "nbformat": 4,
 "nbformat_minor": 2,
 "cells": [
  {
   "cell_type": "code",
   "execution_count": 7,
   "metadata": {},
   "outputs": [
    {
     "output_type": "stream",
     "name": "stdout",
     "text": [
      "시즌4 430화 내일 봐요\nhttps://comic.naver.com/webtoon/detail.nhn?titleId=675554&no=911&weekday=mon\n"
     ]
    }
   ],
   "source": [
    "import requests\n",
    "from bs4 import BeautifulSoup\n",
    "url = \"https://comic.naver.com/webtoon/list.nhn?titleId=675554\"\n",
    "res = requests.get(url)\n",
    "res.raise_for_status()\n",
    "\n",
    "soup = BeautifulSoup(res.text,\"lxml\")\n",
    "cartoons = soup.find_all(\"td\", attrs={\"class\":\"title\"})\n",
    "title = cartoons[1].a.get_text()\n",
    "link = cartoons[0].a[\"href\"]\n",
    "print(title)\n",
    "print(\"https://comic.naver.com\" +link)"
   ]
  },
  {
   "cell_type": "code",
   "execution_count": null,
   "metadata": {},
   "outputs": [],
   "source": []
  }
 ]
}